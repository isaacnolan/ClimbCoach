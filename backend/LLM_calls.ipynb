{
 "cells": [
  {
   "cell_type": "code",
   "execution_count": 2,
   "metadata": {},
   "outputs": [
    {
     "name": "stdout",
     "output_type": "stream",
     "text": [
      "hello\n"
     ]
    }
   ],
   "source": [
    "print('hello')"
   ]
  },
  {
   "cell_type": "code",
   "execution_count": 9,
   "metadata": {},
   "outputs": [],
   "source": [
    "import openai\n",
    "from dotenv import load_dotenv\n",
    "import os\n",
    "\n"
   ]
  },
  {
   "cell_type": "code",
   "execution_count": 10,
   "metadata": {},
   "outputs": [],
   "source": [
    "load_dotenv()\n",
    "\n",
    "# Now you can access your environment variables\n",
    "openai_api_key = os.getenv('OPENAI_API_KEY')"
   ]
  },
  {
   "cell_type": "code",
   "execution_count": 15,
   "metadata": {},
   "outputs": [
    {
     "name": "stdout",
     "output_type": "stream",
     "text": [
      "\n",
      "\n",
      "\u001b[1m> Entering new AgentExecutor chain...\u001b[0m\n",
      "\u001b[32;1m\u001b[1;3mI should use the CatFactFetcher tool to get a random cat fact.\n",
      "Action: CatFactFetcher\n",
      "Action Input: \"\"\u001b[0m\n",
      "Observation: \u001b[36;1m\u001b[1;3mCats dislike citrus scent.\u001b[0m\n",
      "Thought:\u001b[32;1m\u001b[1;3mI should use the CatFactFetcher tool again to get another random cat fact.\n",
      "Action: CatFactFetcher\n",
      "Action Input: \"\"\u001b[0m\n",
      "Observation: \u001b[36;1m\u001b[1;3mIn Ancient Egypt, when a person's house cat passed away, the owner would shave their eyebrows to reflect their grief.\u001b[0m\n",
      "Thought:\u001b[32;1m\u001b[1;3mI now know the final answer\n",
      "Final Answer: In Ancient Egypt, when a person's house cat passed away, the owner would shave their eyebrows to reflect their grief.\u001b[0m\n",
      "\n",
      "\u001b[1m> Finished chain.\u001b[0m\n",
      "In Ancient Egypt, when a person's house cat passed away, the owner would shave their eyebrows to reflect their grief.\n"
     ]
    }
   ],
   "source": [
    "from langchain.agents import initialize_agent, Tool\n",
    "from langchain.agents.agent_types import AgentType\n",
    "from langchain.chat_models import ChatOpenAI\n",
    "import requests\n",
    "\n",
    "# Function to fetch a random cat fact\n",
    "def get_cat_fact(_: str) -> str:\n",
    "    try:\n",
    "        response = requests.get(\"https://catfact.ninja/fact\")\n",
    "        if response.status_code == 200:\n",
    "            data = response.json()\n",
    "            return data.get(\"fact\", \"Couldn't find a cat fact.\")\n",
    "        return f\"Failed to get cat fact. Status code: {response.status_code}\"\n",
    "    except Exception as e:\n",
    "        return f\"API call failed: {e}\"\n",
    "\n",
    "# Wrap it as a LangChain Tool\n",
    "cat_fact_tool = Tool(\n",
    "    name=\"CatFactFetcher\",\n",
    "    func=get_cat_fact,\n",
    "    description=\"Provides a random cat fact when someone asks for one.\"\n",
    ")\n",
    "\n",
    "# Set up the agent\n",
    "llm = ChatOpenAI(temperature=0)\n",
    "agent = initialize_agent(\n",
    "    tools=[cat_fact_tool],\n",
    "    llm=llm,\n",
    "    agent=AgentType.ZERO_SHOT_REACT_DESCRIPTION,\n",
    "    verbose=True\n",
    ")\n",
    "\n",
    "# Example usage\n",
    "print(agent.run(\"Tell me a fun cat fact!\"))\n"
   ]
  },
  {
   "cell_type": "code",
   "execution_count": null,
   "metadata": {},
   "outputs": [],
   "source": []
  }
 ],
 "metadata": {
  "kernelspec": {
   "display_name": "ML",
   "language": "python",
   "name": "python3"
  },
  "language_info": {
   "codemirror_mode": {
    "name": "ipython",
    "version": 3
   },
   "file_extension": ".py",
   "mimetype": "text/x-python",
   "name": "python",
   "nbconvert_exporter": "python",
   "pygments_lexer": "ipython3",
   "version": "3.9.15"
  }
 },
 "nbformat": 4,
 "nbformat_minor": 2
}
